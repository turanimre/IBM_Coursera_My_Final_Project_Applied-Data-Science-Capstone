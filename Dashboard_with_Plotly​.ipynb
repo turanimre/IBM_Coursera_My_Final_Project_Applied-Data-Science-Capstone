{
 "cells": [
  {
   "cell_type": "code",
   "execution_count": 1,
   "id": "2bfaa083",
   "metadata": {},
   "outputs": [],
   "source": [
    "# Import required libraries\n",
    "import pandas as pd\n",
    "import dash\n",
    "import dash_html_components as html\n",
    "import dash_core_components as dcc\n",
    "from dash.dependencies import Input, Output\n",
    "import plotly.express as px"
   ]
  },
  {
   "cell_type": "code",
   "execution_count": 2,
   "id": "580e4255",
   "metadata": {},
   "outputs": [],
   "source": [
    "# Read the airline data into pandas dataframe\n",
    "spacex_df =  pd.read_csv(\"https://cf-courses-data.s3.us.cloud-object-storage.appdomain.cloud/IBM-DS0321EN-SkillsNetwork/datasets/spacex_launch_dash.csv\", \n",
    "                            encoding = \"ISO-8859-1\",\n",
    "                            dtype={'Div1Airport': str, 'Div1TailNum': str, \n",
    "                                   'Div2Airport': str, 'Div2TailNum': str})"
   ]
  },
  {
   "cell_type": "code",
   "execution_count": 3,
   "id": "9348363c",
   "metadata": {},
   "outputs": [],
   "source": [
    "# Read the airline data into pandas dataframe\n",
    "max_payload = spacex_df['Payload Mass (kg)'].max()\n",
    "min_payload = spacex_df['Payload Mass (kg)'].min()"
   ]
  },
  {
   "cell_type": "code",
   "execution_count": 4,
   "id": "4711c736",
   "metadata": {},
   "outputs": [],
   "source": [
    "# Create a dash application\n",
    "app = dash.Dash(__name__)"
   ]
  },
  {
   "cell_type": "code",
   "execution_count": 5,
   "id": "b948a91c",
   "metadata": {
    "scrolled": true
   },
   "outputs": [],
   "source": [
    "spacex_df[\"class1\"] = spacex_df[\"class\"][0:26]\n",
    "spacex_df[\"class2\"] = spacex_df[\"class\"][26:36]\n",
    "spacex_df[\"class3\"] = spacex_df[\"class\"][36:49]\n",
    "spacex_df[\"class4\"] = spacex_df[\"class\"][49:56]"
   ]
  },
  {
   "cell_type": "code",
   "execution_count": 7,
   "id": "5983fb90",
   "metadata": {},
   "outputs": [],
   "source": [
    "# Create an app layout\n",
    "app.layout = html.Div(children=[html.H1('SpaceX Launch Records Dashboard',\n",
    "                                        style={'textAlign': 'center', 'color': '#503D36',\n",
    "                                               'font-size': 40}),\n",
    "                                # TASK 1: Add a dropdown list to enable Launch Site selection\n",
    "                                # The default select value is for ALL sites\n",
    "                                dcc.Dropdown(id = 'site_dropdown',\n",
    "                                            options = [\n",
    "                                                       {'label': 'All', 'value': 'Launch Site'},\n",
    "                                                       {'label': 'CCAFS LC-40', 'value': 'class1'},\n",
    "                                                       {'label': 'VAFB SLC-4E', 'value': 'class2'},\n",
    "                                                       {'label': 'KSC LC-39A', 'value': 'class3'},\n",
    "                                                       {'label': 'CCAFS SLC-40', 'value': 'class4'}\n",
    "                                                      ],\n",
    "                                             placeholder='Select a Launch Site here',\n",
    "                                             style={'width':'80%', 'padding':'3px', 'font-size':'20px', 'text-align-last':'center'}\n",
    "                                            ),\n",
    "                                html.Br(),\n",
    "\n",
    "                                # TASK 2: Add a pie chart to show the total successful launches count for all sites\n",
    "                                # If a specific launch site was selected, show the Success vs. Failed counts for the site\n",
    "                                html.Div(dcc.Graph(id='success-pie-chart'),\n",
    "                                        ),\n",
    "                                html.Br(),\n",
    "\n",
    "                                html.P(\"Payload range (Kg):\"),\n",
    "                                # TASK 3: Add a slider to select payload range\n",
    "                                dcc.RangeSlider(id='payload-slider',\n",
    "                                               marks={\n",
    "                                                   0: \"0\",\n",
    "                                                   1000: \"1000\",\n",
    "                                                   2000: \"2000\",\n",
    "                                                   3000: \"3000\",\n",
    "                                                   4000: \"4000\",\n",
    "                                                   5000: \"5000\",\n",
    "                                                   6000: \"6000\",\n",
    "                                                   7000: \"7000\",\n",
    "                                                   8000: \"8000\",\n",
    "                                                   9000: \"9000\",\n",
    "                                                   10000: \"10000\",\n",
    "                                               },\n",
    "                                               step = 1000,\n",
    "                                               min=0,\n",
    "                                               max=10000,\n",
    "                                               value=[0,9600]\n",
    "                                               ),\n",
    "\n",
    "                                # TASK 4: Add a scatter chart to show the correlation between payload and launch success\n",
    "                                html.Div(dcc.Graph(id='success-payload-scatter-chart')),\n",
    "                                ])\n",
    "\n",
    "@app.callback(\n",
    "    Output(\"success-pie-chart\", \"figure\"), \n",
    "    [Input(\"site_dropdown\", \"value\")\n",
    "    ])\n",
    "def generate_chart(site_dropdown):\n",
    "    piechart = px.pie(spacex_df,\n",
    "                names = site_dropdown,\n",
    "                )\n",
    "    return piechart\n"
   ]
  },
  {
   "cell_type": "markdown",
   "id": "2ee21c86",
   "metadata": {},
   "source": [
    "@app.callback(\n",
    "    Output(\"success-payload-scatter-chart\", \"figure\"), \n",
    "    [Input('site-dropdown','value'), \n",
    "     Input(\"payload-slider\",\"value\")\n",
    "    ])\n",
    "\n",
    "def update_grapg(site_dropdown):\n",
    "    dff = spacex_df[spacex_df[\"Launch Site\"]==int(site_dropdown)]\n",
    "    df = dff.groupby([\"Payload Mass (kg)\"], as_index=False)[\"class\"].mean()\n",
    "    df[\"Booster Version Category\"] = dff[\"Booster Version Category\"]\n",
    "    \n",
    "    scatterplot = px.scatter(\n",
    "        df,\n",
    "        x = \"Payload Mass (kg)\",\n",
    "        y = \"class\",\n",
    "        color=\"Booster Version Category\",\n",
    "        \n",
    "    )\n",
    "    return scatterplot"
   ]
  },
  {
   "cell_type": "code",
   "execution_count": null,
   "id": "9b27661d",
   "metadata": {},
   "outputs": [
    {
     "name": "stdout",
     "output_type": "stream",
     "text": [
      "Dash is running on http://127.0.0.1:4444/\n",
      "\n",
      " * Serving Flask app \"__main__\" (lazy loading)\n",
      " * Environment: production\n",
      "   WARNING: This is a development server. Do not use it in a production deployment.\n",
      "   Use a production WSGI server instead.\n",
      " * Debug mode: off\n"
     ]
    },
    {
     "name": "stderr",
     "output_type": "stream",
     "text": [
      " * Running on http://127.0.0.1:4444/ (Press CTRL+C to quit)\n",
      "127.0.0.1 - - [20/Aug/2021 16:29:45] \"\u001b[37mGET / HTTP/1.1\u001b[0m\" 200 -\n",
      "127.0.0.1 - - [20/Aug/2021 16:29:45] \"\u001b[37mGET /_dash-layout HTTP/1.1\u001b[0m\" 200 -\n",
      "127.0.0.1 - - [20/Aug/2021 16:29:45] \"\u001b[37mGET /_dash-dependencies HTTP/1.1\u001b[0m\" 200 -\n",
      "127.0.0.1 - - [20/Aug/2021 16:29:46] \"\u001b[37mPOST /_dash-update-component HTTP/1.1\u001b[0m\" 200 -\n",
      "127.0.0.1 - - [20/Aug/2021 16:29:47] \"\u001b[37mPOST /_dash-update-component HTTP/1.1\u001b[0m\" 200 -\n",
      "127.0.0.1 - - [20/Aug/2021 16:29:48] \"\u001b[37mPOST /_dash-update-component HTTP/1.1\u001b[0m\" 200 -\n",
      "127.0.0.1 - - [20/Aug/2021 16:29:51] \"\u001b[37mPOST /_dash-update-component HTTP/1.1\u001b[0m\" 200 -\n",
      "127.0.0.1 - - [20/Aug/2021 16:29:53] \"\u001b[37mPOST /_dash-update-component HTTP/1.1\u001b[0m\" 200 -\n",
      "127.0.0.1 - - [20/Aug/2021 16:29:55] \"\u001b[37mPOST /_dash-update-component HTTP/1.1\u001b[0m\" 200 -\n",
      "127.0.0.1 - - [20/Aug/2021 16:29:57] \"\u001b[37mPOST /_dash-update-component HTTP/1.1\u001b[0m\" 200 -\n",
      "127.0.0.1 - - [20/Aug/2021 16:29:59] \"\u001b[37mPOST /_dash-update-component HTTP/1.1\u001b[0m\" 200 -\n",
      "127.0.0.1 - - [20/Aug/2021 16:38:59] \"\u001b[37mPOST /_dash-update-component HTTP/1.1\u001b[0m\" 200 -\n",
      "127.0.0.1 - - [20/Aug/2021 16:39:00] \"\u001b[37mPOST /_dash-update-component HTTP/1.1\u001b[0m\" 200 -\n"
     ]
    }
   ],
   "source": [
    "# Run the app\n",
    "if __name__ == '__main__':\n",
    "    app.run_server(port = 4444)"
   ]
  },
  {
   "cell_type": "code",
   "execution_count": null,
   "id": "d2581de2",
   "metadata": {},
   "outputs": [],
   "source": []
  }
 ],
 "metadata": {
  "kernelspec": {
   "display_name": "Python 3",
   "language": "python",
   "name": "python3"
  },
  "language_info": {
   "codemirror_mode": {
    "name": "ipython",
    "version": 3
   },
   "file_extension": ".py",
   "mimetype": "text/x-python",
   "name": "python",
   "nbconvert_exporter": "python",
   "pygments_lexer": "ipython3",
   "version": "3.8.8"
  }
 },
 "nbformat": 4,
 "nbformat_minor": 5
}
